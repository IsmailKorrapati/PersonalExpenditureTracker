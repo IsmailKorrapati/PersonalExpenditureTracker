{
  "nbformat": 4,
  "nbformat_minor": 0,
  "metadata": {
    "colab": {
      "provenance": [],
      "authorship_tag": "ABX9TyPJcLe4bvAdCLo/G9BUSx5y",
      "include_colab_link": true
    },
    "kernelspec": {
      "name": "python3",
      "display_name": "Python 3"
    },
    "language_info": {
      "name": "python"
    }
  },
  "cells": [
    {
      "cell_type": "markdown",
      "metadata": {
        "id": "view-in-github",
        "colab_type": "text"
      },
      "source": [
        "<a href=\"https://colab.research.google.com/github/IsmailKorrapati/PersonalExpenditureTracker/blob/main/Personal_Expense_Tracker_with_Search_Functionality.ipynb\" target=\"_parent\"><img src=\"https://colab.research.google.com/assets/colab-badge.svg\" alt=\"Open In Colab\"/></a>"
      ]
    },
    {
      "cell_type": "markdown",
      "source": [
        "#Personal Expense Tracker with Search Functionality"
      ],
      "metadata": {
        "id": "WgI7vOgUwctD"
      }
    },
    {
      "cell_type": "markdown",
      "source": [
        "##Storage"
      ],
      "metadata": {
        "id": "CgPiEdTnxO8D"
      }
    },
    {
      "cell_type": "code",
      "source": [
        "exp = {\"food\": 0, \"transport\": 0, \"studentNeeds\": 0}\n",
        "categories = [\"food\", \"transport\", \"studentNeeds\"]"
      ],
      "metadata": {
        "id": "t6xiSBVcxLyq"
      },
      "execution_count": null,
      "outputs": []
    },
    {
      "cell_type": "markdown",
      "source": [
        "##Ask if user wants to enter data or get queries answered"
      ],
      "metadata": {
        "id": "pOHYBii8xT5z"
      }
    },
    {
      "cell_type": "code",
      "source": [
        "print(\"Enter 1 to enter data and 2 for query\")\n",
        "a = int(input(\"Choose what you want to do: \"))"
      ],
      "metadata": {
        "id": "5GWIbQ4GxbtB"
      },
      "execution_count": null,
      "outputs": []
    },
    {
      "cell_type": "markdown",
      "source": [
        "##Take Inputs from Users"
      ],
      "metadata": {
        "id": "Uik7MD6Lxf3p"
      }
    },
    {
      "cell_type": "code",
      "source": [
        "if a == 1:\n",
        "    print(\"Category     -> Appropriate number\")\n",
        "    for i in range(len(categories)):\n",
        "        print(f\"{categories[i]:<12} -> {i}\")\n",
        "    print(\"ENTER -1 TO EXIT\")\n",
        "\n",
        "    while True:\n",
        "        cat = int(input(\"Choose Category: \"))\n",
        "        if cat == -1:\n",
        "            break\n",
        "        amount = int(input(\"Enter Expenditure: \"))\n",
        "        exp[categories[cat]] += amount\n",
        "    print(exp)"
      ],
      "metadata": {
        "id": "8FuNMs8dxjVJ"
      },
      "execution_count": null,
      "outputs": []
    },
    {
      "cell_type": "markdown",
      "source": [
        "##For Queries"
      ],
      "metadata": {
        "id": "eWNzwalWxluF"
      }
    },
    {
      "cell_type": "code",
      "source": [
        "def merge_sort(arr):\n",
        "  if len(arr) <= 1:\n",
        "    return arr\n",
        "\n",
        "  mid = len(arr) // 2\n",
        "  left_half = merge_sort(arr[:mid])\n",
        "  right_half = merge_sort(arr[mid:])\n",
        "\n",
        "  return merge(left_half, right_half)\n",
        "\n",
        "def merge(left, right):\n",
        "  merged = []\n",
        "  i = j = 0\n",
        "  while i < len(left) and j < len(right):\n",
        "    if left[i][1] < right[j][1]:\n",
        "      merged.append(left[i])\n",
        "      i += 1\n",
        "    else:\n",
        "      merged.append(right[j])\n",
        "      j += 1\n",
        "  merged.extend(left[i:])\n",
        "  merged.extend(right[j:])\n",
        "  return merged"
      ],
      "metadata": {
        "id": "Ok1tkrmp2rqa"
      },
      "execution_count": null,
      "outputs": []
    },
    {
      "cell_type": "code",
      "source": [
        "if a == 2:\n",
        "    print(\"Enter 1 to find the category where most is spent and Enter 2 to find the amount in specific category\")\n",
        "    b = int(input(\"Choose what you want to do: \"))\n",
        "    #Find out where you spent the most.\n",
        "    if b == 1:\n",
        "        arr = list(exp.items())\n",
        "        sorted_arr_exp = merge_sort(arr)\n",
        "        print(\"Most amount spent on\", sorted_arr_exp[-1][0], \"i.e,\", sorted_arr_exp[-1][1], \" rupees.\")\n",
        "    #FInd out how much you spent in a specific category.\n",
        "    if b == 2:\n",
        "        cat = input(\"Choose Category:\")\n",
        "        print(exp[cat])"
      ],
      "metadata": {
        "id": "A01HT9SmxpQn"
      },
      "execution_count": null,
      "outputs": []
    }
  ]
}